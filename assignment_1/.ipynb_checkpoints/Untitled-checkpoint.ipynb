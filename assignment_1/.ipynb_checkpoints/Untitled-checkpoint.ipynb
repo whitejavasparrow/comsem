{
 "cells": [
  {
   "cell_type": "code",
   "execution_count": 39,
   "metadata": {},
   "outputs": [],
   "source": [
    "import csv\n",
    "import re\n",
    "import time\n",
    "import datetime\n",
    "from datetime import datetime\n",
    "from workalendar.asia import Taiwan\n",
    "from opencc import OpenCC\n",
    "import os\n",
    "import dateparser"
   ]
  },
  {
   "cell_type": "markdown",
   "metadata": {},
   "source": [
    "translate simplified chinese into traditional chinese"
   ]
  },
  {
   "cell_type": "code",
   "execution_count": 5,
   "metadata": {},
   "outputs": [],
   "source": [
    "def translate(source_file, result_file):\n",
    "    cc = OpenCC('s2t')\n",
    "    source = open(source_file, 'r', encoding = 'utf-8')\n",
    "    result = open(result_file, 'w', encoding = 'utf-8')\n",
    "    # source放純文字檔，轉完放result\n",
    "    count = 0\n",
    "    while True:\n",
    "        line = source.readline()\n",
    "        line = cc.convert(line)\n",
    "        if not line:  #readline會一直讀下去\n",
    "            break\n",
    "        print(line)\n",
    "        count = count +1\n",
    "        result.write(line) \n",
    "        print('===已處理'+str(count)+'行===')\n",
    "    source.close()        \n",
    "    result.close()\n",
    "\n",
    "for root, dirs, files in os.walk(\"chinese\"):\n",
    "    for file in files:\n",
    "        if file.endswith(\".txt\"):\n",
    "            file_path = os.path.join(root, file)\n",
    "            translate(file_path, os.path.join(\"chinese_traditional\", file))       "
   ]
  },
  {
   "cell_type": "markdown",
   "metadata": {},
   "source": [
    "----------"
   ]
  },
  {
   "cell_type": "markdown",
   "metadata": {},
   "source": [
    "prepare text to be evaluated\n",
    "- input string: `sentence_lst`\n",
    "- ws, pos, and ner segged list: `date_lst`, `time_lst`\n",
    "- result: `results`"
   ]
  },
  {
   "cell_type": "code",
   "execution_count": 2,
   "metadata": {},
   "outputs": [],
   "source": [
    "sentence_lst = \"「終於迎來這個期待已久的日子，幾天來的測試及檢驗，我再度確信A321neo是星宇航空首發機隊的正確選擇。」言談中掩飾不了內心的驕傲與期待，星宇航空董事長張國煒上周親自駕駛首架A321neo新機，從德國漢堡起飛，今天上午11點20分抵達桃園國際機場。\\n過去在長榮，張國煒可以說是波音（Boeing）粉，更曾是國內第一位擁有波音777正機師及維修證照的專業航空公司董事長。從官方釋出的接機照中，可以看出張國煒在視察飛機細節時，不時露出對於A321neo的滿意神情，他甚至還真情流露地親吻機身。\\n隨著台灣國籍航空首架A321neo抵台，外界也好奇，為什麼張國煒會說，A321neo是星宇航空首發機隊的正確選擇？答案可能就藏在波音的財報數字中。\\n禁飛令持續，波音獲利腰斬\\n波音737 MAX曾是世上最受歡迎的單走道客機，印尼獅子航空（Lion Air）、衣索比亞航空（Ethiopian Airlines）相繼發生事故，導致346人不幸喪生，這款機型從今年三月起全球停飛，如今邁入第八個月。\\n這對波音公司來說，毫無疑問是一件非常燒錢的事情。根據最新財報，因為停飛，第三季737 MAX僅交付5架，遠低於去年同期的138架。\\n最新一季的營運表現，營收199.80億美元，年減20%，直接反映飛機交付量減少；獲利11.67億美元，年減超過50%，其中商用飛機業務營收，更是慘跌41%至82.5億美元，自由現金流也從去年的41億美元，變成現在「負28.9億美元」，波音管理階層面臨沉重壓力，執行長米倫伯格（Dennis Muilenburg）、商用飛機最高主管麥克亞力斯特（Kevin McAllister）日前接連遭到撤換。\\n對航空公司來說，飛機只要沒有在天上飛，就是在燒錢，因此大量使用737 MAX機型的航空公司，也因為禁飛令，連帶受到嚴重牽連。美國西南航空迄今因為取消超過3萬個航班，造成飛行員損失1億美元薪資。\\nK董決策下得早，早早租下10架A321Neo客機反觀位處歐洲的空中巴士（Airbus），因為737 MAX的禁飛，讓旗下窄體客機大受歡迎，光是第二季的獲利就衝上12.86億美元，年成長超過4倍。\\n這就可以理解，為什麼張國煒會說：「A321neo是星宇航空首發機隊的正確選擇」，現在空巴生意超好，現在改向空巴下訂單的航空公司，未必能在短期交機。張國煒在月初受訪時也說過，A321neo目前生產線滿載，平均每架飛機的交機時間都有5~6個月的延遲，「但是星宇爭取到保障名額，目前新機交機時間皆不受影響。」\\n這一切都是因為張國煒決策下得早，早已簽約租下10架A321Neo客機，另外在去年七月，就跟空中巴士簽訂購機意向書（MOU），買下17架A350XWB廣體客機，完成機隊布局。\\n星宇航空引進的10架A321neo是向GECAS租機公司承租，明年1月開航前將再引進2架，首航共以3架全新A321neo飛航台北至澳門、峴港及檳城。10架A321neo預定於2021年全部交付完畢。\\n波音公司第2季因為737MAX的停飛，已經損失高達56億美元。瑞士信貸（Credit Suisse）分析師認為，最快要到2020年2月才有可能復飛。開航初期，星宇都將用窄體客機執飛區域航線，選擇A321neo除了能確保交機的穩定、維持營運順暢，也是對於飛航安全的宣示，張國煒當初採購飛機的決策，可以說相當神準。\""
   ]
  },
  {
   "cell_type": "code",
   "execution_count": 13,
   "metadata": {},
   "outputs": [],
   "source": [
    "date_lst = ['上周', '第八個月', '今年三月', '去年七月', '明年1月', '2021年', '2020年2月']\n",
    "time_lst = ['上午11點20分']"
   ]
  },
  {
   "cell_type": "code",
   "execution_count": 36,
   "metadata": {},
   "outputs": [],
   "source": [
    "results = []"
   ]
  },
  {
   "cell_type": "markdown",
   "metadata": {},
   "source": [
    "---"
   ]
  },
  {
   "cell_type": "markdown",
   "metadata": {},
   "source": [
    "find target using the dateparse package"
   ]
  },
  {
   "cell_type": "code",
   "execution_count": 37,
   "metadata": {},
   "outputs": [
    {
     "data": {
      "text/plain": [
       "[{'source': '上周',\n",
       "  'target': datetime.datetime(2019, 11, 18, 22, 35, 29, 268963)},\n",
       " {'source': '2020年2月', 'target': datetime.datetime(2020, 2, 25, 0, 0)}]"
      ]
     },
     "execution_count": 37,
     "metadata": {},
     "output_type": "execute_result"
    }
   ],
   "source": [
    "for n in date_lst:\n",
    "    try:\n",
    "        target = dateparser.parse(n)\n",
    "        if not target == None:\n",
    "            results.append({\"source\": n, \"target\": target})\n",
    "    except:\n",
    "        pass\n",
    "\n",
    "for n in time_lst:\n",
    "    try:\n",
    "        target = dateparser.parse(n)\n",
    "        if not target == None:\n",
    "            results.append({\"source\": n, \"target\": target})\n",
    "    except:\n",
    "        pass\n",
    "    \n",
    "results"
   ]
  },
  {
   "cell_type": "markdown",
   "metadata": {},
   "source": [
    "find target using resources from HeidelTime"
   ]
  },
  {
   "cell_type": "code",
   "execution_count": 104,
   "metadata": {},
   "outputs": [
    {
     "data": {
      "text/plain": [
       "'// author: hui li\\n// email:  hui.li@informatik.uni-heidelberg.de\\n// date:   2013-12-12\\n// This file contains rules for the temporal expressions of the type date: daterules\\n// RULENAME=\"\",EXTRACTION=\"\",NORM_VALUE=\"\"(,OFFSET=\"\")?(,POS_CONSTRAINT=\"\")?(,NORM_MOD=\"\")?(,NORM_QUANT=\"\")?(,NORM_FREQ=\"\")?\\n\\n////////////////////////\\n// YEAR GRANULARITY //\\n////////////////////////\\n\\n// EXAMPLE date_year_c1: 1987-12-28\\n// EXAMPLE date_year_c2: 19871228\\n// EXAMPLE date_year_c3: 1987年12月/87年12月\\n// EXAMPLE date_year_c4: 一九八七年十二月/八七年十二月\\n// EXAMPLE date_year_c5: 一九八七十二月二十八日\\n// EXAMPLE date_year_c6: 1987年12月28日/87年12月28日\\n// EXAMPLE date_year_c7: 1987年/87年/八七年/一九八七年\\n// EXAMPLE date_year_c8: 87年12月28\\n// EXAMPLE date_year_c9: 1987年/1987一年\\n// EXAMPLE date_year_c10: 九五/八五\\n// EXAMPLE date_year_c11: 一九八七年年底/八七年末/1987年年底\\n\\nRULENAME=\"date_year_c1\",EXTRACTION=\"%reYear4Digit-%reMonthNumber-%reDayNumber\",NORM_VALUE=\"group(1)-group(2)-group(3)\"\\nRULENAME=\"date_year_c2\",EXTRACTION=\"%reYear4Digit%reMonthNumber%reDayNumber\",NORM_VALUE=\"group(1)-group(2)-group(3)\"\\nRULENAME=\"date_year_c3\",EXTRACTION=\"(%reYear4Digit|%reYear2Digit)年(%reMonthNumber月)\",NORM_VALUE=\"%CHINESENUMBERS%(group(1))-%normMonth(group(5))\"\\nRULENAME=\"date_year_c4\",EXTRACTION=\"(%reYear4Digit|%reYear2Digit)年(%reMonthWord)\",NORM_VALUE=\"%CHINESENUMBERS%(group(1))-%normMonth(group(4))\"\\nRULENAME=\"date_year_c5\",EXTRACTION=\"(%reYear4Digit|%reYear2Digit)年(%reMonthWord)(%reDayWord日)\",NORM_VALUE=\"%CHINESENUMBERS%(group(1))-%normMonth(group(4))-%normDay(group(7))\"\\nRULENAME=\"date_year_c6\",EXTRACTION=\"(%reYear4Digit|%reYear2Digit)年(%reMonthNumber月)(%reDayNumber|%reDayWord)日\",NORM_VALUE=\"%CHINESENUMBERS%(group(1))-%normMonth(group(5))-%normDay(group(6))\"\\nRULENAME=\"date_year_c7\",EXTRACTION=\"(%reYear4Digit|%reYear2Digit)年\",NORM_VALUE=\"%CHINESENUMBERS%(group(1))\"\\nRULENAME=\"date_year_c8\",EXTRACTION=\"(%reYear4Digit|%reYear2Digit)年(%reMonthNumber月)(%reDayNumber)\",NORM_VALUE=\"%CHINESENUMBERS%(group(1))-%normMonth(group(5))-%normDay(group(6))\"\\nRULENAME=\"date_year_c9\",EXTRACTION=\"%reYear4Digit年(一年)?\",NORM_VALUE=\"%CHINESENUMBERS%(group(1))\"\\nRULENAME=\"date_year_c10\",EXTRACTION=\"“(%reFiveYearPlanDigits五)\",NORM_VALUE=\"%normFiveYearPlans(group(1))\",OFFSET=\"group(1)-group(1)\"\\nRULENAME=\"date_year_c11\",EXTRACTION=\"(%reYear4Digit|%reYear2Digit)年(年底|底|末|)\",NORM_VALUE=\"%CHINESENUMBERS%(group(1))\"\\n\\n// EXAMPLE date_year_c12:一九八七年十二月十四和十六日/八七年十二月十四和十六日\\n// EXAMPLE date_year_c13: 今年十二月二十八日\\n// EXAMPLE date_year_c14: 明年十二月\\n// EXAMPLE date_year_c15: 一九八七至八九年/1987和89年\\n// EXAMPLE date_year_c16: 一九八七至一九八九年/1987年和89年\\n// EXAMPLE date_year_c17: 二十幾年\\n// EXAMPLE date_year_c18: 95年十二月\\n\\nRULENAME=\"date_year_c12a\",EXTRACTION=\"(%reYear4Digit|%reYear2Digit)年%reMonthWord(%reDayWord)(和|或|至|到)(%reDayWord)日?\",NORM_VALUE=\"group(1)-%normMonth(group(4))-%normDay(group(5)),OFFSET=\"group(1)-group(5)\"\\nRULENAME=\"date_year_c12b\",EXTRACTION=\"(%reYear4Digit|%reYear2Digit)年%reMonthWord(%reDayWord)(和|或|至|到)(%reDayWord)日?\",NORM_VALUE=\"group(1)-%normMonth(group(4))-%normDay(group(8)),OFFSET=\"group(8)\"\\nRULENAME=\"date_year_c13\",EXTRACTION=\"%reThisNextLast年%reMonthWord%reDayWord日\",NORM_VALUE=\"UNDEF-%normThisNextLast(group(1))-year-%normMonth(group(2))-%normDay(group(3))\"\\nRULENAME=\"date_year_c14a\",EXTRACTION=\"%reThisNextLast年%reMonthWord\",NORM_VALUE=\"UNDEF-%normThisNextLast(group(1))-year-%normMonth(group(2))\"\\nRULENAME=\"date_year_c14b\",EXTRACTION=\"%reThisNextLast年(%reMonthNumber月)份?\",NORM_VALUE=\"UNDEF-%normThisNextLast(group(1))-year-%normMonth(group(3))\"\\n\\nRULENAME=\"date_year_c15a\",EXTRACTION=\"%reYear4Digit(-|－|和|或|至)(%reYear2Digit)年\",NORM_VALUE=\"%CHINESENUMBERS%(group(1))\",OFFSET=\"group(1)\"\\nRULENAME=\"date_year_c15b\",EXTRACTION=\"%reYear4Digit(-|－|和|或|至)(%reYear2Digit)年\",NORM_VALUE=\"%CHINESENUMBERS%(%SUBSTRING%(group(1),0,2)group(3)))\",OFFSET=\"group(3)\"\\nRULENAME=\"date_year_c16a\",EXTRACTION=\"%reYear4Digit年?(-|－|和|或|至)(%reYear4Digit)年\",NORM_VALUE=\"%CHINESENUMBERS%(group(1))\",OFFSET=\"group(1)-group(1)\"\\nRULENAME=\"date_year_c16b\",EXTRACTION=\"%reYear4Digit年?(-|－|和|或|至)(%reYear4Digit)年\",NORM_VALUE=\"%CHINESENUMBERS%(group(3))\",OFFSET=\"group(3)-group(3)\"\\n\\nRULENAME=\"date_year_c18\",EXTRACTION=\"(%reYear4Digit|%reYear2Digit)年%reMonthWord\",NORM_VALUE=\"%CHINESENUMBERS%(group(1))-%normMonth(group(4))\"\\n\\nRULENAME=\"date_year_c19a\",EXTRACTION=\"%reThisNextLast年%reMonthNumber月?(－|和|或|至)(%reMonthNumber月)份?\",NORM_VALUE=\"UNDEF-%normThisNextLast(group(1))-year-%normMonth(group(2))\",OFFSET=\"group(1)-group(2)\"\\nRULENAME=\"date_year_c19b\",EXTRACTION=\"%reThisNextLast年%reMonthNumber月?(－|和|或|至)(%reMonthNumber月)份?\",NORM_VALUE=\"UNDEF-%normThisNextLast(group(1))-year-%normMonth(group(5))\",OFFSET=\"group(4)-group(0)\"\\n\\n\\n//////////////////////////////\\n// PART-OF-YEAR GRANULARITY //\\n//////////////////////////////\\n\\n// EXAMPLE date_partofyear_c1: 1987年第一季/87年第一季\\n// EXAMPLE date_partofyear_c2: 第一季\\n// EXAMPLE date_partofyear_c3: 明年第一季\\n// EXAMPLE date_partofyear_c4: 1987年初\\n// EXAMPLE date_partofyear_c5: 1987年十二月初\\n\\nRULENAME=\"date_partofyear_c1\",EXTRACTION=\"(%reYear4Digit|%Year2Digit)年(%rePartOfYear)\",NORM_VALUE=\"%CHINESENUMBERS%(group(1))-%normPartOfYear(group(4))\"\\nRULENAME=\"date_partofyear_c2\",EXTRACTION=\"%rePartOfYear\",NORM_VALUE=\"UNDEF-year-%normPartOfYear(group(1))\"\\nRULENAME=\"date_partofyear_c3\",EXTRACTION=\"(%reThisNextLast)年(%rePartOfYear)\",NORM_VALUE=\"UNDEF-%normThisNextLast(group(1))-year-%normPartOfYear(group(3))\"\\nRULENAME=\"date_partofyear_c4\",EXTRACTION=\"%reYear4Digit年%rePartWords\",NORM_VALUE=\"%CHINESENUMBERS%(group(1))\",NORM_MOD=\"%normPartWords(group(2))\"\\nRULENAME=\"date_partofyear_c5\",EXTRACTION=\"%reYear4Digit年%reMonthWord%rePartWords\",NORM_VALUE=\"group(1)-%normMonth(group(2))\",NORM_MOD=\"%normPartWords(group(3))\"\\n\\n\\n///////////////////////\\n// MONTH GRANULARITY //\\n///////////////////////\\n\\n// EXAMPLE date_month_c1: 12月28\\n// EXAMPLE date_month_c2: 12月28日\\n// EXAMPLE date_month_c3: 十二月二十八日\\n// EXAMPLE date_month_c4: 十二月\\n// EXAMPLE date_month_c5: 十二月初\\n// EXAMPLE date_month_c6: 下個十二月\\n// EXAMPLE date_month_c7: 下個十二月二十八日\\n// EXAMPLE date_month_c8: 12月\\n// EXAMPLE date_month_c9: 12月份\\n\\nRULENAME=\"date_month_c1\",EXTRACTION=\"(%reMonthNumber)月(%reDayNumber)\",NORM_VALUE=\"UNDEF-year-%normMonth(group(1))-%normDay(group(3))\"\\nRULENAME=\"date_month_c2\",EXTRACTION=\"(%reMonthNumber)月(%reDayNumber)日\",NORM_VALUE=\"UNDEF-year-%normMonth(group(1))-%normDay(group(3))\"\\nRULENAME=\"date_month_c3\",EXTRACTION=\"%reMonthWord(%reDayWord日)\",NORM_VALUE=\"UNDEF-year-%normMonth(group(1))-%normDay(group(3))\"\\nRULENAME=\"date_month_c4\",EXTRACTION=\"%reMonthWord\",NORM_VALUE=\"UNDEF-year-%normMonth(group(1))\"\\nRULENAME=\"date_month_c5\",EXTRACTION=\"%reMonthWord%rePartWords\",NORM_VALUE=\"UNDEF-year-%normMonth(group(1))\",NORM_MOD=\"%normPartWords(group(2))\"\\nRULENAME=\"date_month_c5a\",EXTRACTION=\"(%reMonthNumber月)%rePartWords\",NORM_VALUE=\"UNDEF-year-%normMonth(group(2))\",NORM_MOD=\"%normPartWords(group(3))\"\\nRULENAME=\"date_month_c5b\",EXTRACTION=\"%reThisNextLast年%reMonthWord%rePartWords\",NORM_VALUE=\"UNDEF-%normThisNextLast(group(1))-year-%normMonth(group(2))\",NORM_MOD=\"%normPartWords(group(3))\"\\nRULENAME=\"date_month_c6\",EXTRACTION=\"%reThisNextLast%reMonthWord\",NORM_VALUE=\"UNDEF-%normThisNextLast(group(1))-%normMonth(group(2))\"\\nRULENAME=\"date_month_c7\",EXTRACTION=\"%reThisNextLast%reMonthWord%reDayWord日\",NORM_VALUE=\"UNDEF-year-%normMonth(group(2))-%normDay(group(3))\"\\nRULENAME=\"date_month_c8\",EXTRACTION=\"(%reMonthNumber月)\",NORM_VALUE=\"UNDEF-year-%normMonth(group(2))\"\\nRULENAME=\"date_month_c9\",EXTRACTION=\"(%reMonthNumber月)份\",NORM_VALUE=\"UNDEF-year-%normMonth(group(2))\"\\nRULENAME=\"date_month_c10a\",EXTRACTION=\"%reMonthNumber月?(－|和|或|至)(%reMonthNumber月)份?\",NORM_VALUE=\"UNDEF-year-%normMonth(group(1))\",OFFSET=\"group(1)-group(1)\"\\nRULENAME=\"date_month_c10b\",EXTRACTION=\"%reMonthNumber月?(－|和|或|至)(%reMonthNumber月)份?\",NORM_VALUE=\"UNDEF-year-%normMonth(group(4))\",OFFSET=\"group(3)-group(3)\"\\nRULENAME=\"date_month_c11a\",EXTRACTION=\"%reMonthWord(%reDayWord)日?(－|和|或|至)(%reDayWord)日?\",NORM_VALUE=\"UNDEF-year-%normMonth(group(1))-%normDay(group(2))\",OFFSET=\"group(1)-group(2)\"\\nRULENAME=\"date_month_c11b\",EXTRACTION=\"%reMonthWord(%reDayWord)日?(－|和|或|至)(%reDayWord)日?\",NORM_VALUE=\"UNDEF-year-%normMonth(group(1))-%normDay(group(5))\"\\n\\n\\n//////////////////////\\n// DAY GRANULARITY //\\n//////////////////////\\n\\n// EXAMPLE date_day_c1: 今天/目前\\n// EXAMPLE date_day_c2: 今天結束\\n// EXAMPLE date_day_c3: 今天早上\\n\\nRULENAME=\"date_day_c1\",EXTRACTION=\"%reDateWord\",NORM_VALUE=\"%normDateWord(group(1))\"\\nRULENAME=\"date_day_c2\",EXTRACTION=\"%reDateWord%rePartWords\",NORM_VALUE=\"%normDateWord(group(1))\",NORM_MOD=\"%normPartWords(group(2))\"\\nRULENAME=\"date_day_c3\",EXTRACTION=\"%reDateWord%rePartOfDay\",NORM_VALUE=\"%normDateWord(group(1))\",NORM_MOD=\"%normPartOfDay(group(2))\"\\n\\n\\n//////////////////////\\n// WEEK GRANULARITY //\\n//////////////////////\\n\\n// EXAMPLE date_week_c1: 星期一\\n// EXAMPLE date_week_c2: 星期一結束\\n// EXAMPLE date_week_c3: 星期一早上\\n// EXAMPLE date_week_c4: 下個星期一\\n\\nRULENAME=\"date_week_c1\",EXTRACTION=\"(%reApproximate)?%reWeekday\",NORM_VALUE=\"UNDEF-day-%normWeekday(group(3))\",NORM_MOD=\"%normApprox4Dates(group(1))\"\\nRULENAME=\"date_week_c2\",EXTRACTION=\"%reWeekday%rePartWords\",NORM_VALUE=\"UNDEF-day-%normWeekday(group(1))\",NORM_MOD=\"%normPartWords(group(2))\"\\nRULENAME=\"date_week_c3\",EXTRACTION=\"%reDateWord%rePartOfDay\",NORM_VALUE=\"%normDateWord(group(1))\",NORM_MOD=\"%normPartOfDay(group(2))\"\\nRULENAME=\"date_week_c4\",EXTRACTION=\"%reThisNextLast%reWeekday\",NORM_VALUE=\"UNDEF-%normThisNextLast(group(1))-%normWeekday(group(2))\"\\n\\n\\n////////////////////////\\n// SEASON GRANULARITY //\\n////////////////////////\\n\\n// EXAMPLE date_season_c1:春天\\n// EXAMPLE date_season_c2:1987年春/87年春\\n// EXAMPLE date_season_c3:下個春天\\n\\nRULENAME=\"date_season_c1\",EXTRACTION=\"%reSeason\",NORM_VALUE=\"UNDEF-year-%normSeason(group(1))\"\\nRULENAME=\"date_season_c2\",EXTRACTION=\"(%reYear4Digit|%reYear2Digit)年(%reSeason)\",NORM_VALUE=\"group(1)-%normSeason(group(4))\"\\nRULENAME=\"date_season_c3\",EXTRACTION=\"%reThisNextLast%reSeason\",NORM_VALUE=\"UNDEF-%normThisNextLast(group(1))-%normSeason(group(2))\"\"\\n\\n\\n////////////////////////////////\\n// DECADE/CENTURY GRANULARITY //\\n////////////////////////////////\\n\\n// EXAMPLE date_decade_c1: 七十年代\\n// EXAMPLE date_decade_c2: 19世紀70年代\\n// EXAMPLE date_decade_c3: 19世紀初\\n// EXAMPLE date_decade_c4: 19世紀20年代初\\n// EXAMPLE date_decade_c5: 明年二月初\\n// EXAMPLE date_decade_c6: 去年夏初\\n// EXAMPLE date_decade_c7: 去年年底\\n\\nRULENAME=\"date_decade_c1\",EXTRACTION=\"%reDecadeWord\",NORM_VALUE=\"UNDEF-century%normDecadeWord(group(1))\"\\nRULENAME=\"date_decade_c2\",EXTRACTION=\"%reDecadeWord%reDecadeWord\",NORM_VALUE=\"UNDEF-century%normDecadeWord(group(1))%normDecadeWord(group(2))\"\\nRULENAME=\"date_decade_c3\",EXTRACTION=\"%reDecadeWord%rePartWords\",NORM_VALUE=\"UNDEF-century%normDecadeWord(group(1))\",NORM_MOD=\"%normPartWords(group(2))\"\\nRULENAME=\"date_decade_c4\",EXTRACTION=\"%reDecadeWord%reDecadeWord%rePartWords\",NORM_VALUE=\"UNDEF-century%normDecadeWord(group(1))%normDecadeWord(group(2))\",NORM_MOD=\"%normPartWords(group(3))\"\\nRULENAME=\"date_decade_c5\",EXTRACTION=\"%reThisNextLast%reMonthWord%rePartWords\",NORM_VALUE=\"UNDEF-%normThisNextLast(group(1))-(group(2))\",NORM_MOD=\"%normPartWords(group(3))\"\\nRULENAME=\"date_decade_c6\",EXTRACTION=\"%reThisNextLast%reSeason%rePartWords\",NORM_VALUE=\"UNDEF-%normThisNextLast(group(1))-%normSeason(group(2))\",NORM_MOD=\"%normPartWords(group(3))\"\\nRULENAME=\"date_decade_c7\",EXTRACTION=\"%reThisNextLast%reUnit(年底|底|末|年末)\",NORM_VALUE=\"UNDEF-%normThisNextLast(group(1))-%normUnit(group(2))\"\\nRULENAME=\"date_decade_c8\",EXTRACTION=\"%reThisNextLast%reUnit全年\",NORM_VALUE=\"UNDEF-%normThisNextLast(group(1))-%normUnit(group(2))\"\\n\\n// EXAMPLE \"date_ago_c1\": 至少幾年前\\n// EXAMPLE \"date_ago_c2\": 大約二十年前\\n// EXAMPLE \"date_ago_c3\": 大約300年前\\n// EXAMPLE \"date_ago_c4\": 一個月前\\n\\nRULENAME=\"date_ago_c1\",EXTRACTION=\"(%reApproximate)?幾(%reUnit)(前|以前)\",NORM_VALUE=\"PAST_REF\"\\nRULENAME=\"date_ago_c2\",EXTRACTION=\"(%reApproximate)?(%reNumWord2D|%reNumWord1D)(%reUnit)(前|以前)\",NORM_VALUE=\"UNDEF-this-%normUnit(group(6))-MINUS-%normDurationNumber(group(3))\",NORM_MOD=\"%normApprox4Dates(group(1))\"\\nRULENAME=\"date_ago_c2a\",EXTRACTION=\"(%reNumWord2D|%reNumWord1D)(%reUnit)(前|以前)\",NORM_VALUE=\"UNDEF-this-%normUnit(group(4))-MINUS-%normDurationNumber(group(1))\"\\nRULENAME=\"date_ago_c3\",EXTRACTION=\"(%reApproximate)?([\\\\d]+) (%reUnit)(前|以前)\",NORM_VALUE=\"UNDEF-this-%normUnit(group(4))-MINUS-group(3)\",NORM_MOD=\"%normApprox4Dates(group(2))\"\\nRULENAME=\"date_ago_c4\",EXTRACTION=\"(%reApproximate)?(一個|一)(%reUnit)(前|以前)\",NORM_VALUE=\"UNDEF-this-%normUnit(group(4))-MINUS-1\",NORM_MOD=\"%normApprox4Dates(group(2))\"\\n\\n// EXAMPLE \"date_later_c1\": 幾天後\\n// EXAMPLE \"date_later_c2\": 大約二十天後\\n// EXAMPLE \"date_later_c3\": 大約160天后\\n// EXAMPLE \"date_later_c4\": 一年後\\n\\nRULENAME=\"date_later_c1\",EXTRACTION=\"(%reApproximate)(幾)(%reUnit)(後|以後)\",NORM_VALUE=\"FUTURE_REF\"\\nRULENAME=\"date_later_c2\",EXTRACTION=\"(%reApproximate)(%reNumWord2D|%reNumWord1D)(%reUnit)(後|以後)\",NORM_VALUE=\"UNDEF-REF-%normUnit(group(6))-PLUS-%normDurationNumber(group(3))\",NORM_MOD=\"%normApprox4Dates(group(2))\"\\nRULENAME=\"date_later_c3\",EXTRACTION=\"(%reApproximate)([\\\\d]+)(%reUnit)(後|以後)\",NORM_VALUE=\"UNDEF-REF-%normUnit(group(4))-PLUS-group(3)\",NORM_MOD=\"%normApprox4Dates(group(2))\"\\nRULENAME=\"date_later_c4\",EXTRACTION=\"(%reApproximate)(一)(%reUnit)(後|以後)\",NORM_VALUE=\"UNDEF-REF-%normUnit(group(4))-PLUS-1\",NORM_MOD=\"%normApprox4Dates(group(2))\"\\n\\n\\n///////////////////\\n// HOLIDAY RULES //\\n///////////////////\\n\\n//EXAMPLE \"date_holiday_c1\": 聖誕節\\n//EXAMPLE \"date_holiday_c2\": 2010年聖誕節\\n//EXAMPLE \"date_holiday_c3\": 10年聖誕節\\n\\nRULENAME=\"date_holiday_c1\",EXTRACTION=\"%reHolidayFix\",NORM_VALUE=\"UNDEF-year-%normHolidayFix(group(1))\"\\nRULENAME=\"date_holiday_c2\",EXTRACTION=\"%reYear4Digit\"年“%reHolidayFix\",NORM_VALUE=\"group(1)-%normHolidayFix(group(2))\"\\nRULENAME=\"date_holiday_c3\",EXTRACTION=\"%reYear2Digit\"年\"%reHolidayFix\",NORM_VALUE=\"UNDEF-centurygroup(1)-%normHolidayFix(group(2))\"\\n\\n\\n////////////////\\n// UNIT RULES //\\n////////////////\\n\\n//EXAMPLE \"date_unit_c1\": 這一年\\n\\nRULENAME=\"date_unit_c1\",EXTRACTION=\"%reThisNextLast(一)?%reUnit(同期?)?\",NORM_VALUE=\"UNDEF-%normThisNextLast(group(1))-%normUnit(group(3))\"\\n\\n\\n////////////////////\\n// NEGATIVE RULES //\\n////////////////////\\n\\n// EXAMPLE r1a_negative_1: as soon as (do not match soon if it is in \"as soon as\")\\nRULENAME=\"date_r1_negative\",EXTRACTION=\"as soon as\",NORM_VALUE=\"REMOVE\"\\n\\n// EXAMPLE r3a_negative_1: 2000 soldiers (four digit number followed by a plural noun)\\n// EXAMPLE r3b_negative_1: 2000 dead soldiers (four digit number followed by an adjective and a plural noun)\\n// EXAMPLE r3c_negative_1: 2000 kilometer (four digit number followed a non-temporal unit)\\n// RULENAME=\"date_r3a_negative\",EXTRACTION=\"%reYear4Digit ([\\\\S]+)\",NORM_VALUE=\"REMOVE\",POS_CONSTRAINT=\"group(2):NNS:\"\\n// RULENAME=\"date_r3b_negative\",EXTRACTION=\"%reYear4Digit ([\\\\S]+) ([\\\\S]+)\",NORM_VALUE=\"REMOVE\",POS_CONSTRAINT=\"group(2):JJ:group(3):NNS:\"\\n// RULENAME=\"date_r3c_negative\",EXTRACTION=\"%reYear4Digit (kilometers?|miles?|foot|feet|dollars?)\",NORM_VALUE=\"REMOVE\"\\n'"
      ]
     },
     "execution_count": 104,
     "metadata": {},
     "output_type": "execute_result"
    }
   ],
   "source": [
    "f = open(\"chinese_traditional_edited/resources_rules_daterules.txt\", \"r\")\n",
    "txt = f.read()\n",
    "txt"
   ]
  },
  {
   "cell_type": "code",
   "execution_count": 108,
   "metadata": {},
   "outputs": [
    {
     "data": {
      "text/plain": [
       "[<re.Match object; span=(0, 118), match='RULENAME=\"date_year_c1\",EXTRACTION=\"%reYear4Digit>,\n",
       " <re.Match object; span=(0, 116), match='RULENAME=\"date_year_c2\",EXTRACTION=\"%reYear4Digit>,\n",
       " <re.Match object; span=(0, 145), match='RULENAME=\"date_year_c3\",EXTRACTION=\"(%reYear4Digi>,\n",
       " <re.Match object; span=(0, 142), match='RULENAME=\"date_year_c4\",EXTRACTION=\"(%reYear4Digi>,\n",
       " <re.Match object; span=(0, 174), match='RULENAME=\"date_year_c5\",EXTRACTION=\"(%reYear4Digi>,\n",
       " <re.Match object; span=(0, 190), match='RULENAME=\"date_year_c6\",EXTRACTION=\"(%reYear4Digi>,\n",
       " <re.Match object; span=(0, 107), match='RULENAME=\"date_year_c7\",EXTRACTION=\"(%reYear4Digi>,\n",
       " <re.Match object; span=(0, 178), match='RULENAME=\"date_year_c8\",EXTRACTION=\"(%reYear4Digi>,\n",
       " <re.Match object; span=(0, 96), match='RULENAME=\"date_year_c9\",EXTRACTION=\"%reYear4Digit>,\n",
       " <re.Match object; span=(0, 132), match='RULENAME=\"date_year_c10\",EXTRACTION=\"“(%reFiveYea>,\n",
       " <re.Match object; span=(0, 117), match='RULENAME=\"date_year_c11\",EXTRACTION=\"(%reYear4Dig>,\n",
       " <re.Match object; span=(0, 204), match='RULENAME=\"date_year_c12a\",EXTRACTION=\"(%reYear4Di>,\n",
       " <re.Match object; span=(0, 195), match='RULENAME=\"date_year_c12b\",EXTRACTION=\"(%reYear4Di>,\n",
       " <re.Match object; span=(0, 169), match='RULENAME=\"date_year_c13\",EXTRACTION=\"%reThisNextL>,\n",
       " <re.Match object; span=(0, 140), match='RULENAME=\"date_year_c14a\",EXTRACTION=\"%reThisNext>,\n",
       " <re.Match object; span=(0, 147), match='RULENAME=\"date_year_c14b\",EXTRACTION=\"%reThisNext>,\n",
       " <re.Match object; span=(0, 137), match='RULENAME=\"date_year_c15a\",EXTRACTION=\"%reYear4Dig>,\n",
       " <re.Match object; span=(0, 163), match='RULENAME=\"date_year_c15b\",EXTRACTION=\"%reYear4Dig>,\n",
       " <re.Match object; span=(0, 148), match='RULENAME=\"date_year_c16a\",EXTRACTION=\"%reYear4Dig>,\n",
       " <re.Match object; span=(0, 148), match='RULENAME=\"date_year_c16b\",EXTRACTION=\"%reYear4Dig>,\n",
       " <re.Match object; span=(0, 141), match='RULENAME=\"date_year_c18\",EXTRACTION=\"(%reYear4Dig>,\n",
       " <re.Match object; span=(0, 199), match='RULENAME=\"date_year_c19a\",EXTRACTION=\"%reThisNext>,\n",
       " <re.Match object; span=(0, 199), match='RULENAME=\"date_year_c19b\",EXTRACTION=\"%reThisNext>,\n",
       " <re.Match object; span=(0, 152), match='RULENAME=\"date_partofyear_c1\",EXTRACTION=\"(%reYea>,\n",
       " <re.Match object; span=(0, 106), match='RULENAME=\"date_partofyear_c2\",EXTRACTION=\"%rePart>,\n",
       " <re.Match object; span=(0, 154), match='RULENAME=\"date_partofyear_c3\",EXTRACTION=\"(%reThi>,\n",
       " <re.Match object; span=(0, 145), match='RULENAME=\"date_partofyear_c4\",EXTRACTION=\"%reYear>,\n",
       " <re.Match object; span=(0, 160), match='RULENAME=\"date_partofyear_c5\",EXTRACTION=\"%reYear>,\n",
       " <re.Match object; span=(0, 133), match='RULENAME=\"date_month_c1\",EXTRACTION=\"(%reMonthNum>,\n",
       " <re.Match object; span=(0, 134), match='RULENAME=\"date_month_c2\",EXTRACTION=\"(%reMonthNum>,\n",
       " <re.Match object; span=(0, 127), match='RULENAME=\"date_month_c3\",EXTRACTION=\"%reMonthWord>,\n",
       " <re.Match object; span=(0, 95), match='RULENAME=\"date_month_c4\",EXTRACTION=\"%reMonthWord>,\n",
       " <re.Match object; span=(0, 143), match='RULENAME=\"date_month_c5\",EXTRACTION=\"%reMonthWord>,\n",
       " <re.Match object; span=(0, 149), match='RULENAME=\"date_month_c5a\",EXTRACTION=\"(%reMonthNu>,\n",
       " <re.Match object; span=(0, 188), match='RULENAME=\"date_month_c5b\",EXTRACTION=\"%reThisNext>,\n",
       " <re.Match object; span=(0, 133), match='RULENAME=\"date_month_c6\",EXTRACTION=\"%reThisNextL>,\n",
       " <re.Match object; span=(0, 140), match='RULENAME=\"date_month_c7\",EXTRACTION=\"%reThisNextL>,\n",
       " <re.Match object; span=(0, 100), match='RULENAME=\"date_month_c8\",EXTRACTION=\"(%reMonthNum>,\n",
       " <re.Match object; span=(0, 101), match='RULENAME=\"date_month_c9\",EXTRACTION=\"(%reMonthNum>,\n",
       " <re.Match object; span=(0, 156), match='RULENAME=\"date_month_c10a\",EXTRACTION=\"%reMonthNu>,\n",
       " <re.Match object; span=(0, 156), match='RULENAME=\"date_month_c10b\",EXTRACTION=\"%reMonthNu>,\n",
       " <re.Match object; span=(0, 180), match='RULENAME=\"date_month_c11a\",EXTRACTION=\"%reMonthWo>,\n",
       " <re.Match object; span=(0, 153), match='RULENAME=\"date_month_c11b\",EXTRACTION=\"%reMonthWo>,\n",
       " <re.Match object; span=(0, 84), match='RULENAME=\"date_day_c1\",EXTRACTION=\"%reDateWord\",N>,\n",
       " <re.Match object; span=(0, 132), match='RULENAME=\"date_day_c2\",EXTRACTION=\"%reDateWord%re>,\n",
       " <re.Match object; span=(0, 132), match='RULENAME=\"date_day_c3\",EXTRACTION=\"%reDateWord%re>,\n",
       " <re.Match object; span=(0, 149), match='RULENAME=\"date_week_c1\",EXTRACTION=\"(%reApproxima>,\n",
       " <re.Match object; span=(0, 141), match='RULENAME=\"date_week_c2\",EXTRACTION=\"%reWeekday%re>,\n",
       " <re.Match object; span=(0, 133), match='RULENAME=\"date_week_c3\",EXTRACTION=\"%reDateWord%r>,\n",
       " <re.Match object; span=(0, 132), match='RULENAME=\"date_week_c4\",EXTRACTION=\"%reThisNextLa>,\n",
       " <re.Match object; span=(0, 94), match='RULENAME=\"date_season_c1\",EXTRACTION=\"%reSeason\",>,\n",
       " <re.Match object; span=(0, 124), match='RULENAME=\"date_season_c2\",EXTRACTION=\"(%reYear4Di>,\n",
       " <re.Match object; span=(0, 133), match='RULENAME=\"date_season_c3\",EXTRACTION=\"%reThisNext>,\n",
       " <re.Match object; span=(0, 104), match='RULENAME=\"date_decade_c1\",EXTRACTION=\"%reDecadeWo>,\n",
       " <re.Match object; span=(0, 142), match='RULENAME=\"date_decade_c2\",EXTRACTION=\"%reDecadeWo>,\n",
       " <re.Match object; span=(0, 152), match='RULENAME=\"date_decade_c3\",EXTRACTION=\"%reDecadeWo>,\n",
       " <re.Match object; span=(0, 190), match='RULENAME=\"date_decade_c4\",EXTRACTION=\"%reDecadeWo>,\n",
       " <re.Match object; span=(0, 172), match='RULENAME=\"date_decade_c5\",EXTRACTION=\"%reThisNext>,\n",
       " <re.Match object; span=(0, 180), match='RULENAME=\"date_decade_c6\",EXTRACTION=\"%reThisNext>,\n",
       " <re.Match object; span=(0, 139), match='RULENAME=\"date_decade_c7\",EXTRACTION=\"%reThisNext>,\n",
       " <re.Match object; span=(0, 130), match='RULENAME=\"date_decade_c8\",EXTRACTION=\"%reThisNext>,\n",
       " <re.Match object; span=(0, 91), match='RULENAME=\"date_ago_c1\",EXTRACTION=\"(%reApproximat>,\n",
       " <re.Match object; span=(0, 214), match='RULENAME=\"date_ago_c2\",EXTRACTION=\"(%reApproximat>,\n",
       " <re.Match object; span=(0, 159), match='RULENAME=\"date_ago_c2a\",EXTRACTION=\"(%reNumWord2D>,\n",
       " <re.Match object; span=(0, 174), match='RULENAME=\"date_ago_c3\",EXTRACTION=\"(%reApproximat>,\n",
       " <re.Match object; span=(0, 165), match='RULENAME=\"date_ago_c4\",EXTRACTION=\"(%reApproximat>,\n",
       " <re.Match object; span=(0, 96), match='RULENAME=\"date_later_c1\",EXTRACTION=\"(%reApproxim>,\n",
       " <re.Match object; span=(0, 213), match='RULENAME=\"date_later_c2\",EXTRACTION=\"(%reApproxim>,\n",
       " <re.Match object; span=(0, 172), match='RULENAME=\"date_later_c3\",EXTRACTION=\"(%reApproxim>,\n",
       " <re.Match object; span=(0, 161), match='RULENAME=\"date_later_c4\",EXTRACTION=\"(%reApproxim>,\n",
       " <re.Match object; span=(0, 103), match='RULENAME=\"date_holiday_c1\",EXTRACTION=\"%reHoliday>,\n",
       " <re.Match object; span=(0, 117), match='RULENAME=\"date_holiday_c2\",EXTRACTION=\"%reYear4Di>,\n",
       " <re.Match object; span=(0, 130), match='RULENAME=\"date_holiday_c3\",EXTRACTION=\"%reYear2Di>,\n",
       " <re.Match object; span=(0, 136), match='RULENAME=\"date_unit_c1\",EXTRACTION=\"%reThisNextLa>,\n",
       " <re.Match object; span=(0, 71), match='RULENAME=\"date_r1_negative\",EXTRACTION=\"as soon a>,\n",
       " <re.Match object; span=(0, 114), match='RULENAME=\"date_r3a_negative\",EXTRACTION=\"%reYear4>,\n",
       " <re.Match object; span=(0, 134), match='RULENAME=\"date_r3b_negative\",EXTRACTION=\"%reYear4>,\n",
       " <re.Match object; span=(0, 115), match='RULENAME=\"date_r3c_negative\",EXTRACTION=\"%reYear4>]"
      ]
     },
     "execution_count": 108,
     "metadata": {},
     "output_type": "execute_result"
    }
   ],
   "source": [
    "RULE_lst = []\n",
    "txt_lst = txt.split(\"// \")\n",
    "for n in txt_lst:\n",
    "    if 'RULENAME=\"\"' in n:\n",
    "        meta_RULE = n.replace(\"\\n\", \"\").replace(\"/\", \"\").replace('\"\"', '\"(.*)\"')\n",
    "    elif \"RULENAME\" in n:\n",
    "        n_lst = n.split(\"\\n\")\n",
    "        for m in n_lst:\n",
    "            target = re.match(meta_RULE, m)\n",
    "            if not target == None:\n",
    "                RULE_lst.append(target)\n",
    "                \n",
    "RULE_lst"
   ]
  },
  {
   "cell_type": "code",
   "execution_count": 115,
   "metadata": {},
   "outputs": [
    {
     "data": {
      "text/plain": [
       "'%reYear4Digit-%reMonthNumber-%reDayNumber'"
      ]
     },
     "execution_count": 115,
     "metadata": {},
     "output_type": "execute_result"
    }
   ],
   "source": [
    "RULE_lst[0].group(2)"
   ]
  },
  {
   "cell_type": "code",
   "execution_count": 136,
   "metadata": {},
   "outputs": [
    {
     "name": "stdout",
     "output_type": "stream",
     "text": [
      "[('', ''), ('%reYear4Digit-%reMonthNumber-%reDayNumber', 'Year4Digit-%reMonthNumber-%reDayNumber'), ('', '')]\n",
      "[('', ''), ('%reYear4Digit%reMonthNumber%reDayNumber', 'Year4Digit%reMonthNumber%reDayNumber'), ('', '')]\n",
      "[('', ''), ('', ''), ('%reYear4Digit|%reYear2Digit)年(%reMonthNumber月)', 'Year4Digit|%reYear2Digit)年(%reMonthNumber月)'), ('', '')]\n",
      "[('', ''), ('', ''), ('%reYear4Digit|%reYear2Digit)年(%reMonthWord)', 'Year4Digit|%reYear2Digit)年(%reMonthWord)'), ('', '')]\n",
      "[('', ''), ('', ''), ('%reYear4Digit|%reYear2Digit)年(%reMonthWord)(%reDayWord日)', 'Year4Digit|%reYear2Digit)年(%reMonthWord)(%reDayWord日)'), ('', '')]\n",
      "[('', ''), ('', ''), ('%reYear4Digit|%reYear2Digit)年(%reMonthNumber月)(%reDayNumber|%reDayWord)日', 'Year4Digit|%reYear2Digit)年(%reMonthNumber月)(%reDayNumber|%reDayWord)日'), ('', '')]\n",
      "[('', ''), ('', ''), ('%reYear4Digit|%reYear2Digit)年', 'Year4Digit|%reYear2Digit)年'), ('', '')]\n",
      "[('', ''), ('', ''), ('%reYear4Digit|%reYear2Digit)年(%reMonthNumber月)(%reDayNumber)', 'Year4Digit|%reYear2Digit)年(%reMonthNumber月)(%reDayNumber)'), ('', '')]\n",
      "[('', ''), ('%reYear4Digit年(一年)?', 'Year4Digit年(一年)?'), ('', '')]\n",
      "[('', ''), ('', ''), ('', ''), ('%reFiveYearPlanDigits五)', 'FiveYearPlanDigits五)'), ('', '')]\n",
      "[('', ''), ('', ''), ('%reYear4Digit|%reYear2Digit)年(年底|底|末|)', 'Year4Digit|%reYear2Digit)年(年底|底|末|)'), ('', '')]\n",
      "[('', ''), ('', ''), ('%reYear4Digit|%reYear2Digit)年%reMonthWord(%reDayWord)(和|或|至|到)(%reDayWord)日?', 'Year4Digit|%reYear2Digit)年%reMonthWord(%reDayWord)(和|或|至|到)(%reDayWord)日?'), ('', '')]\n",
      "[('', ''), ('', ''), ('%reYear4Digit|%reYear2Digit)年%reMonthWord(%reDayWord)(和|或|至|到)(%reDayWord)日?', 'Year4Digit|%reYear2Digit)年%reMonthWord(%reDayWord)(和|或|至|到)(%reDayWord)日?'), ('', '')]\n",
      "[('', ''), ('%reThisNextLast年%reMonthWord%reDayWord日', 'ThisNextLast年%reMonthWord%reDayWord日'), ('', '')]\n",
      "[('', ''), ('%reThisNextLast年%reMonthWord', 'ThisNextLast年%reMonthWord'), ('', '')]\n",
      "[('', ''), ('%reThisNextLast年(%reMonthNumber月)份?', 'ThisNextLast年(%reMonthNumber月)份?'), ('', '')]\n",
      "[('', ''), ('%reYear4Digit(-|－|和|或|至)(%reYear2Digit)年', 'Year4Digit(-|－|和|或|至)(%reYear2Digit)年'), ('', '')]\n",
      "[('', ''), ('%reYear4Digit(-|－|和|或|至)(%reYear2Digit)年', 'Year4Digit(-|－|和|或|至)(%reYear2Digit)年'), ('', '')]\n",
      "[('', ''), ('%reYear4Digit年?(-|－|和|或|至)(%reYear4Digit)年', 'Year4Digit年?(-|－|和|或|至)(%reYear4Digit)年'), ('', '')]\n",
      "[('', ''), ('%reYear4Digit年?(-|－|和|或|至)(%reYear4Digit)年', 'Year4Digit年?(-|－|和|或|至)(%reYear4Digit)年'), ('', '')]\n",
      "[('', ''), ('', ''), ('%reYear4Digit|%reYear2Digit)年%reMonthWord', 'Year4Digit|%reYear2Digit)年%reMonthWord'), ('', '')]\n",
      "[('', ''), ('%reThisNextLast年%reMonthNumber月?(－|和|或|至)(%reMonthNumber月)份?', 'ThisNextLast年%reMonthNumber月?(－|和|或|至)(%reMonthNumber月)份?'), ('', '')]\n",
      "[('', ''), ('%reThisNextLast年%reMonthNumber月?(－|和|或|至)(%reMonthNumber月)份?', 'ThisNextLast年%reMonthNumber月?(－|和|或|至)(%reMonthNumber月)份?'), ('', '')]\n",
      "[('', ''), ('', ''), ('%reYear4Digit|%Year2Digit)年(%rePartOfYear)', 'Year4Digit|%Year2Digit)年(%rePartOfYear)'), ('', '')]\n",
      "[('', ''), ('%rePartOfYear', 'PartOfYear'), ('', '')]\n",
      "[('', ''), ('', ''), ('%reThisNextLast)年(%rePartOfYear)', 'ThisNextLast)年(%rePartOfYear)'), ('', '')]\n",
      "[('', ''), ('%reYear4Digit年%rePartWords', 'Year4Digit年%rePartWords'), ('', '')]\n",
      "[('', ''), ('%reYear4Digit年%reMonthWord%rePartWords', 'Year4Digit年%reMonthWord%rePartWords'), ('', '')]\n",
      "[('', ''), ('', ''), ('%reMonthNumber)月(%reDayNumber)', 'MonthNumber)月(%reDayNumber)'), ('', '')]\n",
      "[('', ''), ('', ''), ('%reMonthNumber)月(%reDayNumber)日', 'MonthNumber)月(%reDayNumber)日'), ('', '')]\n",
      "[('', ''), ('%reMonthWord(%reDayWord日)', 'MonthWord(%reDayWord日)'), ('', '')]\n",
      "[('', ''), ('%reMonthWord', 'MonthWord'), ('', '')]\n",
      "[('', ''), ('%reMonthWord%rePartWords', 'MonthWord%rePartWords'), ('', '')]\n",
      "[('', ''), ('', ''), ('%reMonthNumber月)%rePartWords', 'MonthNumber月)%rePartWords'), ('', '')]\n",
      "[('', ''), ('%reThisNextLast年%reMonthWord%rePartWords', 'ThisNextLast年%reMonthWord%rePartWords'), ('', '')]\n",
      "[('', ''), ('%reThisNextLast%reMonthWord', 'ThisNextLast%reMonthWord'), ('', '')]\n",
      "[('', ''), ('%reThisNextLast%reMonthWord%reDayWord日', 'ThisNextLast%reMonthWord%reDayWord日'), ('', '')]\n",
      "[('', ''), ('', ''), ('%reMonthNumber月)', 'MonthNumber月)'), ('', '')]\n",
      "[('', ''), ('', ''), ('%reMonthNumber月)份', 'MonthNumber月)份'), ('', '')]\n",
      "[('', ''), ('%reMonthNumber月?(－|和|或|至)(%reMonthNumber月)份?', 'MonthNumber月?(－|和|或|至)(%reMonthNumber月)份?'), ('', '')]\n",
      "[('', ''), ('%reMonthNumber月?(－|和|或|至)(%reMonthNumber月)份?', 'MonthNumber月?(－|和|或|至)(%reMonthNumber月)份?'), ('', '')]\n",
      "[('', ''), ('%reMonthWord(%reDayWord)日?(－|和|或|至)(%reDayWord)日?', 'MonthWord(%reDayWord)日?(－|和|或|至)(%reDayWord)日?'), ('', '')]\n",
      "[('', ''), ('%reMonthWord(%reDayWord)日?(－|和|或|至)(%reDayWord)日?', 'MonthWord(%reDayWord)日?(－|和|或|至)(%reDayWord)日?'), ('', '')]\n",
      "[('', ''), ('%reDateWord', 'DateWord'), ('', '')]\n",
      "[('', ''), ('%reDateWord%rePartWords', 'DateWord%rePartWords'), ('', '')]\n",
      "[('', ''), ('%reDateWord%rePartOfDay', 'DateWord%rePartOfDay'), ('', '')]\n",
      "[('', ''), ('', ''), ('%reApproximate)?%reWeekday', 'Approximate)?%reWeekday'), ('', '')]\n",
      "[('', ''), ('%reWeekday%rePartWords', 'Weekday%rePartWords'), ('', '')]\n",
      "[('', ''), ('%reDateWord%rePartOfDay', 'DateWord%rePartOfDay'), ('', '')]\n",
      "[('', ''), ('%reThisNextLast%reWeekday', 'ThisNextLast%reWeekday'), ('', '')]\n",
      "[('', ''), ('%reSeason', 'Season'), ('', '')]\n",
      "[('', ''), ('', ''), ('%reYear4Digit|%reYear2Digit)年(%reSeason)', 'Year4Digit|%reYear2Digit)年(%reSeason)'), ('', '')]\n",
      "[('', ''), ('%reThisNextLast%reSeason', 'ThisNextLast%reSeason'), ('', '')]\n",
      "[('', ''), ('%reDecadeWord', 'DecadeWord'), ('', '')]\n",
      "[('', ''), ('%reDecadeWord%reDecadeWord', 'DecadeWord%reDecadeWord'), ('', '')]\n",
      "[('', ''), ('%reDecadeWord%rePartWords', 'DecadeWord%rePartWords'), ('', '')]\n",
      "[('', ''), ('%reDecadeWord%reDecadeWord%rePartWords', 'DecadeWord%reDecadeWord%rePartWords'), ('', '')]\n",
      "[('', ''), ('%reThisNextLast%reMonthWord%rePartWords', 'ThisNextLast%reMonthWord%rePartWords'), ('', '')]\n",
      "[('', ''), ('%reThisNextLast%reSeason%rePartWords', 'ThisNextLast%reSeason%rePartWords'), ('', '')]\n",
      "[('', ''), ('%reThisNextLast%reUnit(年底|底|末|年末)', 'ThisNextLast%reUnit(年底|底|末|年末)'), ('', '')]\n",
      "[('', ''), ('%reThisNextLast%reUnit全年', 'ThisNextLast%reUnit全年'), ('', '')]\n",
      "[('', ''), ('', ''), ('%reApproximate)?幾(%reUnit)(前|以前)', 'Approximate)?幾(%reUnit)(前|以前)'), ('', '')]\n",
      "[('', ''), ('', ''), ('%reApproximate)?(%reNumWord2D|%reNumWord1D)(%reUnit)(前|以前)', 'Approximate)?(%reNumWord2D|%reNumWord1D)(%reUnit)(前|以前)'), ('', '')]\n",
      "[('', ''), ('', ''), ('%reNumWord2D|%reNumWord1D)(%reUnit)(前|以前)', 'NumWord2D|%reNumWord1D)(%reUnit)(前|以前)'), ('', '')]\n",
      "[('', ''), ('', ''), ('%reApproximate)?([\\\\d]+) (%reUnit)(前|以前)', 'Approximate)?([\\\\d]+) (%reUnit)(前|以前)'), ('', '')]\n",
      "[('', ''), ('', ''), ('%reApproximate)?(一個|一)(%reUnit)(前|以前)', 'Approximate)?(一個|一)(%reUnit)(前|以前)'), ('', '')]\n",
      "[('', ''), ('', ''), ('%reApproximate)(幾)(%reUnit)(後|以後)', 'Approximate)(幾)(%reUnit)(後|以後)'), ('', '')]\n",
      "[('', ''), ('', ''), ('%reApproximate)(%reNumWord2D|%reNumWord1D)(%reUnit)(後|以後)', 'Approximate)(%reNumWord2D|%reNumWord1D)(%reUnit)(後|以後)'), ('', '')]\n",
      "[('', ''), ('', ''), ('%reApproximate)([\\\\d]+)(%reUnit)(後|以後)', 'Approximate)([\\\\d]+)(%reUnit)(後|以後)'), ('', '')]\n",
      "[('', ''), ('', ''), ('%reApproximate)(一)(%reUnit)(後|以後)', 'Approximate)(一)(%reUnit)(後|以後)'), ('', '')]\n",
      "[('', ''), ('%reHolidayFix', 'HolidayFix'), ('', '')]\n",
      "[('', ''), ('%reYear4Digit\"年“%reHolidayFix', 'Year4Digit\"年“%reHolidayFix'), ('', '')]\n",
      "[('', ''), ('%reYear2Digit\"年\"%reHolidayFix', 'Year2Digit\"年\"%reHolidayFix'), ('', '')]\n",
      "[('', ''), ('%reThisNextLast(一)?%reUnit(同期?)?', 'ThisNextLast(一)?%reUnit(同期?)?'), ('', '')]\n",
      "[('', ''), ('', ''), ('', ''), ('', ''), ('', ''), ('', ''), ('', ''), ('', ''), ('', ''), ('', ''), ('', '')]\n",
      "[('', ''), ('%reYear4Digit ([\\\\S]+)', 'Year4Digit ([\\\\S]+)'), ('', '')]\n",
      "[('', ''), ('%reYear4Digit ([\\\\S]+) ([\\\\S]+)', 'Year4Digit ([\\\\S]+) ([\\\\S]+)'), ('', '')]\n",
      "[('', ''), ('%reYear4Digit (kilometers?|miles?|foot|feet|dollars?)', 'Year4Digit (kilometers?|miles?|foot|feet|dollars?)'), ('', '')]\n"
     ]
    }
   ],
   "source": [
    "for idx, RULE in enumerate(RULE_lst):\n",
    "    group_2 = RULE_lst[idx].group(2)\n",
    "    r = re.compile(r'(%re(.*))*?')\n",
    "    print(r.findall(group_2))"
   ]
  },
  {
   "cell_type": "markdown",
   "metadata": {},
   "source": [
    "---"
   ]
  },
  {
   "cell_type": "markdown",
   "metadata": {},
   "source": [
    "find holidays using the workalendar package and holiday_2020 csv file"
   ]
  },
  {
   "cell_type": "code",
   "execution_count": 40,
   "metadata": {},
   "outputs": [],
   "source": [
    "with open(\"holidays_2020.csv\", \"r\", encoding=\"utf-8\") as f:\n",
    "    rows = csv.reader(f)\n",
    "    \n",
    "    holidays_2020 = []\n",
    "    for row in rows:\n",
    "        if row[3] != \"\": # no holidays in the csv file\n",
    "            d = re.match(\"(\\d+)年(\\d+)月(\\d+)日\", row[0])\n",
    "            padded_date = \"{}年{}月{}日\".format(d.group(1), d.group(2).zfill(2), d.group(3).zfill(2))\n",
    "            holidays_2020.append((datetime.strptime(padded_date, \"%Y年%m月%d日\").date(), row[3]))"
   ]
  },
  {
   "cell_type": "code",
   "execution_count": 41,
   "metadata": {},
   "outputs": [],
   "source": [
    "def working_day(d):\n",
    "    cal = Taiwan()\n",
    "    return cal.is_working_day(d)\n",
    "\n",
    "def holiday(d):\n",
    "    holiday = False\n",
    "    for k, v in holidays_2020:\n",
    "        if d == k:\n",
    "            holiday = True\n",
    "    return holiday"
   ]
  }
 ],
 "metadata": {
  "kernelspec": {
   "display_name": "Python 3",
   "language": "python",
   "name": "python3"
  },
  "language_info": {
   "codemirror_mode": {
    "name": "ipython",
    "version": 3
   },
   "file_extension": ".py",
   "mimetype": "text/x-python",
   "name": "python",
   "nbconvert_exporter": "python",
   "pygments_lexer": "ipython3",
   "version": "3.7.4"
  }
 },
 "nbformat": 4,
 "nbformat_minor": 2
}
