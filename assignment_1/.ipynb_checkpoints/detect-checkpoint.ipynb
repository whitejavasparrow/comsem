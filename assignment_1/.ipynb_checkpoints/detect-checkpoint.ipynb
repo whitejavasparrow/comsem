{
 "cells": [
  {
   "cell_type": "code",
   "execution_count": 1,
   "metadata": {},
   "outputs": [],
   "source": [
    "import csv\n",
    "import re\n",
    "import time\n",
    "import datetime\n",
    "from datetime import datetime\n",
    "from workalendar.asia import Taiwan\n",
    "from opencc import OpenCC\n",
    "import os\n",
    "import dateparser\n",
    "import pandas as pd\n",
    "import numpy as np\n",
    "import json"
   ]
  },
  {
   "cell_type": "markdown",
   "metadata": {},
   "source": [
    "## Setting Rules"
   ]
  },
  {
   "cell_type": "markdown",
   "metadata": {},
   "source": [
    "### translate simplified chinese into traditional chinese"
   ]
  },
  {
   "cell_type": "markdown",
   "metadata": {},
   "source": [
    "def translate(source_file, result_file):\n",
    "    cc = OpenCC('s2t')\n",
    "    source = open(source_file, 'r', encoding = 'utf-8')\n",
    "    result = open(result_file, 'w', encoding = 'utf-8')\n",
    "    # source放純文字檔，轉完放result\n",
    "    count = 0\n",
    "    while True:\n",
    "        line = source.readline()\n",
    "        line = cc.convert(line)\n",
    "        if not line:  #readline會一直讀下去\n",
    "            break\n",
    "        print(line)\n",
    "        count = count +1\n",
    "        result.write(line) \n",
    "        print('===已處理'+str(count)+'行===')\n",
    "    source.close()        \n",
    "    result.close()\n",
    "\n",
    "for root, dirs, files in os.walk(\"chinese\"):\n",
    "    for file in files:\n",
    "        if file.endswith(\".txt\"):\n",
    "            file_path = os.path.join(root, file)\n",
    "            translate(file_path, os.path.join(\"chinese_traditional\", file))       "
   ]
  },
  {
   "cell_type": "markdown",
   "metadata": {},
   "source": [
    "---"
   ]
  },
  {
   "cell_type": "markdown",
   "metadata": {},
   "source": [
    "## find target using resources from HeidelTime"
   ]
  },
  {
   "cell_type": "markdown",
   "metadata": {},
   "source": [
    "repattern_lst, rules_lst, normalization_lst = [], [], []\n",
    "for root, dirs, files in os.walk(\"chinese_traditional_edited\"):\n",
    "    for file in files:\n",
    "        if file.endswith(\".txt\"):\n",
    "            file_path = os.path.join(root, file)\n",
    "            txt = open(file_path, 'r', encoding = 'utf-8').read()\n",
    "            if \"repattern\" in file:\n",
    "                repattern_lst.append({\"filename\": file, \"content\": txt})\n",
    "            elif \"rules\" in file:\n",
    "                rules_lst.append({\"filename\": file, \"content\": txt})\n",
    "            elif \"normalization\" in file:\n",
    "                normalization_lst.append({\"filename\": file, \"content\": txt})"
   ]
  },
  {
   "cell_type": "markdown",
   "metadata": {},
   "source": [
    "repattern_dic = []\n",
    "\n",
    "for n in repattern_lst:\n",
    "    tag = re.match(r\"(re.*|tense.*)\\.txt\", n[\"filename\"].split(\"_\")[-1]).group(1)\n",
    "    content_lst = n[\"content\"].split(\"\\n\")\n",
    "    repattern = [content for content in content_lst if \"//\" not in content and content != \"\"]\n",
    "    \n",
    "    repattern_dic.append({\"tag\": tag, \"repattern\": repattern})\n",
    "    \n",
    "repattern_dic"
   ]
  },
  {
   "cell_type": "markdown",
   "metadata": {},
   "source": [
    "with open(\"repattern_dic.json\", \"w\", encoding=\"utf-8\") as f:\n",
    "    json.dump(repattern_dic, f, indent=2, ensure_ascii=False)"
   ]
  },
  {
   "cell_type": "markdown",
   "metadata": {},
   "source": [
    "rules_dic = []\n",
    "\n",
    "for n in rules_lst:\n",
    "    lines = n[\"content\"].split(\"\\n\")\n",
    "    lines = [line.replace(\"// \", \"\") for line in lines if \"RULENAME\" in line]\n",
    "\n",
    "    for line in lines[1:]:\n",
    "        rules_params = line.split(\",\")\n",
    "        try:\n",
    "            param_dic = {}\n",
    "            for param in rules_params:\n",
    "                tag, rule = param.split(\"=\")\n",
    "                param_dic[tag] = rule.replace('\"', '').replace('“', '').replace('”', '')\n",
    "                rules_dic.append(param_dic)\n",
    "        except:\n",
    "            print(\"---\")\n",
    "            print(param)\n",
    "            print(n[\"filename\"])\n",
    "            \n",
    "rules_dic"
   ]
  },
  {
   "cell_type": "markdown",
   "metadata": {
    "scrolled": true
   },
   "source": [
    "def match_EXTRACTION(extraction):\n",
    "    for n in repattern_dic:\n",
    "        if n[\"tag\"] in extraction:\n",
    "            #print(\"---\")\n",
    "            #print(n[\"tag\"])\n",
    "            #print(n[\"repattern\"])\n",
    "            regex = '|'.join(n[\"repattern\"])\n",
    "            extraction = extraction.replace(\"%\"+n[\"tag\"], \"(\"+regex+\")\")\n",
    "    return extraction"
   ]
  },
  {
   "cell_type": "markdown",
   "metadata": {},
   "source": [
    "matched_rules_dic = []\n",
    "for i, rule in enumerate(rules_dic):\n",
    "    matched_EXTRACTION = match_EXTRACTION(rule[\"EXTRACTION\"])\n",
    "    rule_dic = rules_dic[i]\n",
    "    rule_dic[\"matched_EXTRACTION\"] = matched_EXTRACTION\n",
    "    matched_rules_dic.append(rule_dic)\n",
    "\n",
    "matched_rules_dic"
   ]
  },
  {
   "cell_type": "markdown",
   "metadata": {},
   "source": [
    "with open(\"matched_rules_dic.json\", \"w\", encoding=\"utf-8\") as f:\n",
    "    json.dump(matched_rules_dic, f, indent=2, ensure_ascii=False)"
   ]
  },
  {
   "cell_type": "markdown",
   "metadata": {},
   "source": [
    "----------"
   ]
  },
  {
   "cell_type": "markdown",
   "metadata": {},
   "source": [
    "## prepare text to be evaluated\n",
    "- input string: `sentences`\n",
    "- ws, pos, and ner segged list: `date_lst`, `time_lst`\n",
    "- result: `results`"
   ]
  },
  {
   "cell_type": "code",
   "execution_count": 2,
   "metadata": {},
   "outputs": [],
   "source": [
    "sentences = \"「終於迎來這個期待已久的日子，幾天來的測試及檢驗，我再度確信A321neo是星宇航空首發機隊的正確選擇。」言談中掩飾不了內心的驕傲與期待，星宇航空董事長張國煒上周親自駕駛首架A321neo新機，從德國漢堡起飛，今天上午11點20分抵達桃園國際機場。\\n過去在長榮，張國煒可以說是波音（Boeing）粉，更曾是國內第一位擁有波音777正機師及維修證照的專業航空公司董事長。從官方釋出的接機照中，可以看出張國煒在視察飛機細節時，不時露出對於A321neo的滿意神情，他甚至還真情流露地親吻機身。\\n隨著台灣國籍航空首架A321neo抵台，外界也好奇，為什麼張國煒會說，A321neo是星宇航空首發機隊的正確選擇？答案可能就藏在波音的財報數字中。\\n禁飛令持續，波音獲利腰斬\\n波音737 MAX曾是世上最受歡迎的單走道客機，印尼獅子航空（Lion Air）、衣索比亞航空（Ethiopian Airlines）相繼發生事故，導致346人不幸喪生，這款機型從今年三月起全球停飛，如今邁入第八個月。\\n這對波音公司來說，毫無疑問是一件非常燒錢的事情。根據最新財報，因為停飛，第三季737 MAX僅交付5架，遠低於去年同期的138架。\\n最新一季的營運表現，營收199.80億美元，年減20%，直接反映飛機交付量減少；獲利11.67億美元，年減超過50%，其中商用飛機業務營收，更是慘跌41%至82.5億美元，自由現金流也從去年的41億美元，變成現在「負28.9億美元」，波音管理階層面臨沉重壓力，執行長米倫伯格（Dennis Muilenburg）、商用飛機最高主管麥克亞力斯特（Kevin McAllister）日前接連遭到撤換。\\n對航空公司來說，飛機只要沒有在天上飛，就是在燒錢，因此大量使用737 MAX機型的航空公司，也因為禁飛令，連帶受到嚴重牽連。美國西南航空迄今因為取消超過3萬個航班，造成飛行員損失1億美元薪資。\\nK董決策下得早，早早租下10架A321Neo客機反觀位處歐洲的空中巴士（Airbus），因為737 MAX的禁飛，讓旗下窄體客機大受歡迎，光是第二季的獲利就衝上12.86億美元，年成長超過4倍。\\n這就可以理解，為什麼張國煒會說：「A321neo是星宇航空首發機隊的正確選擇」，現在空巴生意超好，現在改向空巴下訂單的航空公司，未必能在短期交機。張國煒在月初受訪時也說過，A321neo目前生產線滿載，平均每架飛機的交機時間都有5~6個月的延遲，「但是星宇爭取到保障名額，目前新機交機時間皆不受影響。」\\n這一切都是因為張國煒決策下得早，早已簽約租下10架A321Neo客機，另外在去年七月，就跟空中巴士簽訂購機意向書（MOU），買下17架A350XWB廣體客機，完成機隊布局。\\n星宇航空引進的10架A321neo是向GECAS租機公司承租，明年1月開航前將再引進2架，首航共以3架全新A321neo飛航台北至澳門、峴港及檳城。10架A321neo預定於2021年全部交付完畢。\\n波音公司第2季因為737MAX的停飛，已經損失高達56億美元。瑞士信貸（Credit Suisse）分析師認為，最快要到2020年2月才有可能復飛。開航初期，星宇都將用窄體客機執飛區域航線，選擇A321neo除了能確保交機的穩定、維持營運順暢，也是對於飛航安全的宣示，張國煒當初採購飛機的決策，可以說相當神準。\""
   ]
  },
  {
   "cell_type": "code",
   "execution_count": 3,
   "metadata": {},
   "outputs": [
    {
     "data": {
      "text/plain": [
       "['「終於迎來這個期待已久的日子，幾天來的測試及檢驗，我再度確信A321neo是星宇航空首發機隊的正確選擇。」言談中掩飾不了內心的驕傲與期待，星宇航空董事長張國煒上周親自駕駛首架A321neo新機，從德國漢堡起飛，今天上午11點20分抵達桃園國際機場。',\n",
       " '過去在長榮，張國煒可以說是波音（Boeing）粉，更曾是國內第一位擁有波音777正機師及維修證照的專業航空公司董事長。從官方釋出的接機照中，可以看出張國煒在視察飛機細節時，不時露出對於A321neo的滿意神情，他甚至還真情流露地親吻機身。',\n",
       " '隨著台灣國籍航空首架A321neo抵台，外界也好奇，為什麼張國煒會說，A321neo是星宇航空首發機隊的正確選擇？答案可能就藏在波音的財報數字中。',\n",
       " '禁飛令持續，波音獲利腰斬',\n",
       " '波音737 MAX曾是世上最受歡迎的單走道客機，印尼獅子航空（Lion Air）、衣索比亞航空（Ethiopian Airlines）相繼發生事故，導致346人不幸喪生，這款機型從今年三月起全球停飛，如今邁入第八個月。',\n",
       " '這對波音公司來說，毫無疑問是一件非常燒錢的事情。根據最新財報，因為停飛，第三季737 MAX僅交付5架，遠低於去年同期的138架。',\n",
       " '最新一季的營運表現，營收199.80億美元，年減20%，直接反映飛機交付量減少；獲利11.67億美元，年減超過50%，其中商用飛機業務營收，更是慘跌41%至82.5億美元，自由現金流也從去年的41億美元，變成現在「負28.9億美元」，波音管理階層面臨沉重壓力，執行長米倫伯格（Dennis Muilenburg）、商用飛機最高主管麥克亞力斯特（Kevin McAllister）日前接連遭到撤換。',\n",
       " '對航空公司來說，飛機只要沒有在天上飛，就是在燒錢，因此大量使用737 MAX機型的航空公司，也因為禁飛令，連帶受到嚴重牽連。美國西南航空迄今因為取消超過3萬個航班，造成飛行員損失1億美元薪資。',\n",
       " 'K董決策下得早，早早租下10架A321Neo客機反觀位處歐洲的空中巴士（Airbus），因為737 MAX的禁飛，讓旗下窄體客機大受歡迎，光是第二季的獲利就衝上12.86億美元，年成長超過4倍。',\n",
       " '這就可以理解，為什麼張國煒會說：「A321neo是星宇航空首發機隊的正確選擇」，現在空巴生意超好，現在改向空巴下訂單的航空公司，未必能在短期交機。張國煒在月初受訪時也說過，A321neo目前生產線滿載，平均每架飛機的交機時間都有5~6個月的延遲，「但是星宇爭取到保障名額，目前新機交機時間皆不受影響。」',\n",
       " '這一切都是因為張國煒決策下得早，早已簽約租下10架A321Neo客機，另外在去年七月，就跟空中巴士簽訂購機意向書（MOU），買下17架A350XWB廣體客機，完成機隊布局。',\n",
       " '星宇航空引進的10架A321neo是向GECAS租機公司承租，明年1月開航前將再引進2架，首航共以3架全新A321neo飛航台北至澳門、峴港及檳城。10架A321neo預定於2021年全部交付完畢。',\n",
       " '波音公司第2季因為737MAX的停飛，已經損失高達56億美元。瑞士信貸（Credit Suisse）分析師認為，最快要到2020年2月才有可能復飛。開航初期，星宇都將用窄體客機執飛區域航線，選擇A321neo除了能確保交機的穩定、維持營運順暢，也是對於飛航安全的宣示，張國煒當初採購飛機的決策，可以說相當神準。']"
      ]
     },
     "execution_count": 3,
     "metadata": {},
     "output_type": "execute_result"
    }
   ],
   "source": [
    "sentence_lst = sentences.split(\"\\n\")\n",
    "sentence_lst"
   ]
  },
  {
   "cell_type": "code",
   "execution_count": 4,
   "metadata": {},
   "outputs": [],
   "source": [
    "date_lst = ['上周', '第八個月', '今年三月', '去年七月', '明年1月', '2021年', '2020年2月']\n",
    "time_lst = ['上午11點20分']"
   ]
  },
  {
   "cell_type": "code",
   "execution_count": 5,
   "metadata": {},
   "outputs": [],
   "source": [
    "results = []"
   ]
  },
  {
   "cell_type": "code",
   "execution_count": 6,
   "metadata": {},
   "outputs": [
    {
     "data": {
      "text/plain": [
       "[{'source': '上周', 'target': ''},\n",
       " {'source': '第八個月', 'target': ''},\n",
       " {'source': '今年三月', 'target': ''},\n",
       " {'source': '去年七月', 'target': ''},\n",
       " {'source': '明年1月', 'target': ''},\n",
       " {'source': '2021年', 'target': ''},\n",
       " {'source': '2020年2月', 'target': ''},\n",
       " {'source': '上午11點20分', 'target': ''}]"
      ]
     },
     "execution_count": 6,
     "metadata": {},
     "output_type": "execute_result"
    }
   ],
   "source": [
    "results = results + [{\"source\": n, \"target\": \"\"} for n in date_lst] + [{\"source\": n, \"target\": \"\"} for n in time_lst]\n",
    "results"
   ]
  },
  {
   "cell_type": "markdown",
   "metadata": {},
   "source": [
    "---"
   ]
  },
  {
   "cell_type": "markdown",
   "metadata": {},
   "source": [
    "## find target using the dateparse package"
   ]
  },
  {
   "cell_type": "code",
   "execution_count": 7,
   "metadata": {},
   "outputs": [
    {
     "data": {
      "text/plain": [
       "[{'source': '上周', 'target': ''},\n",
       " {'source': '第八個月', 'target': ''},\n",
       " {'source': '今年三月', 'target': ''},\n",
       " {'source': '去年七月', 'target': ''},\n",
       " {'source': '明年1月', 'target': ''},\n",
       " {'source': '2021年', 'target': ''},\n",
       " {'source': '2020年2月', 'target': ''},\n",
       " {'source': '上午11點20分', 'target': ''},\n",
       " {'source': '上周',\n",
       "  'target': datetime.datetime(2019, 11, 19, 16, 22, 9, 180406)},\n",
       " {'source': '2020年2月', 'target': datetime.datetime(2020, 2, 26, 0, 0)}]"
      ]
     },
     "execution_count": 7,
     "metadata": {},
     "output_type": "execute_result"
    }
   ],
   "source": [
    "for n in date_lst:\n",
    "    try:\n",
    "        target = dateparser.parse(n)\n",
    "        if not target == None:\n",
    "            results.append({\"source\": n, \"target\": target})\n",
    "    except:\n",
    "        pass\n",
    "\n",
    "for n in time_lst:\n",
    "    try:\n",
    "        target = dateparser.parse(n)\n",
    "        if not target == None:\n",
    "            results.append({\"source\": n, \"target\": target})\n",
    "    except:\n",
    "        pass\n",
    "    \n",
    "results"
   ]
  },
  {
   "cell_type": "markdown",
   "metadata": {},
   "source": [
    "## find target using resources from HeidelTime"
   ]
  },
  {
   "cell_type": "code",
   "execution_count": 8,
   "metadata": {},
   "outputs": [],
   "source": [
    "with open(\"matched_rules_dic.json\", \"r\", encoding=\"utf-8\") as f:\n",
    "    matched_rules_dic = json.load(f)"
   ]
  },
  {
   "cell_type": "code",
   "execution_count": 10,
   "metadata": {},
   "outputs": [],
   "source": [
    "def HeidelTime_detect(string):\n",
    "    found = []\n",
    "    for i, rule in enumerate(matched_rules_dic):\n",
    "        try:\n",
    "            attempt = re.search(rule[\"matched_EXTRACTION\"], string)\n",
    "            if attempt.group(0) in found:\n",
    "                pass\n",
    "            else:\n",
    "                found.append(attempt.group(0))\n",
    "        except:\n",
    "            pass\n",
    "    return found"
   ]
  },
  {
   "cell_type": "code",
   "execution_count": 11,
   "metadata": {},
   "outputs": [
    {
     "data": {
      "text/plain": [
       "[{'source': '上周', 'target': ''},\n",
       " {'source': '第八個月', 'target': ''},\n",
       " {'source': '今年三月', 'target': ''},\n",
       " {'source': '去年七月', 'target': ''},\n",
       " {'source': '明年1月', 'target': ''},\n",
       " {'source': '2021年', 'target': ''},\n",
       " {'source': '2020年2月', 'target': ''},\n",
       " {'source': '上午11點20分', 'target': ''},\n",
       " {'source': '上周',\n",
       "  'target': datetime.datetime(2019, 11, 19, 16, 22, 9, 180406)},\n",
       " {'source': '2020年2月', 'target': datetime.datetime(2020, 2, 26, 0, 0)},\n",
       " {'source': '今天', 'target': ''},\n",
       " {'source': '今天上午', 'target': ''},\n",
       " {'source': '上周', 'target': ''},\n",
       " {'source': '上午11點20分', 'target': ''},\n",
       " {'source': '過去', 'target': ''},\n",
       " {'source': '今年三月', 'target': ''},\n",
       " {'source': '三月', 'target': ''},\n",
       " {'source': '如今', 'target': ''},\n",
       " {'source': '今年', 'target': ''},\n",
       " {'source': '八個月', 'target': ''},\n",
       " {'source': '第三季', 'target': ''},\n",
       " {'source': '去年同期', 'target': ''},\n",
       " {'source': '三季', 'target': ''},\n",
       " {'source': '現', 'target': ''},\n",
       " {'source': '新一季', 'target': ''},\n",
       " {'source': '一季', 'target': ''},\n",
       " {'source': '第二季', 'target': ''},\n",
       " {'source': '二季', 'target': ''},\n",
       " {'source': '現在', 'target': ''},\n",
       " {'source': '去年七月', 'target': ''},\n",
       " {'source': '七月', 'target': ''},\n",
       " {'source': '去年', 'target': ''},\n",
       " {'source': '2021年', 'target': ''},\n",
       " {'source': '明年1月', 'target': ''},\n",
       " {'source': '1月', 'target': ''},\n",
       " {'source': '明年', 'target': ''},\n",
       " {'source': '2020年2月', 'target': ''},\n",
       " {'source': '2020年', 'target': ''},\n",
       " {'source': '第2季', 'target': ''},\n",
       " {'source': '2月', 'target': ''}]"
      ]
     },
     "execution_count": 11,
     "metadata": {},
     "output_type": "execute_result"
    }
   ],
   "source": [
    "for sentence in sentence_lst:\n",
    "    sources = HeidelTime_detect(sentence)\n",
    "    if sources != []:\n",
    "        for source in sources:\n",
    "            results.append({\"source\": source, \"target\": \"\"})\n",
    "\n",
    "results"
   ]
  },
  {
   "cell_type": "code",
   "execution_count": 12,
   "metadata": {},
   "outputs": [
    {
     "data": {
      "text/plain": [
       "[['上周'],\n",
       " ['八個月'],\n",
       " ['今年三月', '三月', '今年'],\n",
       " ['去年七月', '七月', '去年'],\n",
       " ['明年1月', '1月', '明年'],\n",
       " ['2021年'],\n",
       " ['2020年2月', '2020年', '2月']]"
      ]
     },
     "execution_count": 12,
     "metadata": {},
     "output_type": "execute_result"
    }
   ],
   "source": [
    "[HeidelTime_detect(n) for n in date_lst]"
   ]
  },
  {
   "cell_type": "code",
   "execution_count": 13,
   "metadata": {},
   "outputs": [
    {
     "data": {
      "text/plain": [
       "[['上午11點20分']]"
      ]
     },
     "execution_count": 13,
     "metadata": {},
     "output_type": "execute_result"
    }
   ],
   "source": [
    "[HeidelTime_detect(n) for n in time_lst]"
   ]
  },
  {
   "cell_type": "code",
   "execution_count": 14,
   "metadata": {},
   "outputs": [
    {
     "data": {
      "text/html": [
       "<div>\n",
       "<style scoped>\n",
       "    .dataframe tbody tr th:only-of-type {\n",
       "        vertical-align: middle;\n",
       "    }\n",
       "\n",
       "    .dataframe tbody tr th {\n",
       "        vertical-align: top;\n",
       "    }\n",
       "\n",
       "    .dataframe thead th {\n",
       "        text-align: right;\n",
       "    }\n",
       "</style>\n",
       "<table border=\"1\" class=\"dataframe\">\n",
       "  <thead>\n",
       "    <tr style=\"text-align: right;\">\n",
       "      <th></th>\n",
       "      <th>source</th>\n",
       "      <th>target</th>\n",
       "    </tr>\n",
       "  </thead>\n",
       "  <tbody>\n",
       "    <tr>\n",
       "      <td>1</td>\n",
       "      <td>1月</td>\n",
       "      <td>NaN</td>\n",
       "    </tr>\n",
       "    <tr>\n",
       "      <td>2</td>\n",
       "      <td>2020年</td>\n",
       "      <td>NaN</td>\n",
       "    </tr>\n",
       "    <tr>\n",
       "      <td>3</td>\n",
       "      <td>2020年2月</td>\n",
       "      <td>2020-02-26 00:00:00</td>\n",
       "    </tr>\n",
       "    <tr>\n",
       "      <td>4</td>\n",
       "      <td>2021年</td>\n",
       "      <td>NaN</td>\n",
       "    </tr>\n",
       "    <tr>\n",
       "      <td>5</td>\n",
       "      <td>2月</td>\n",
       "      <td>NaN</td>\n",
       "    </tr>\n",
       "    <tr>\n",
       "      <td>6</td>\n",
       "      <td>一季</td>\n",
       "      <td>NaN</td>\n",
       "    </tr>\n",
       "    <tr>\n",
       "      <td>7</td>\n",
       "      <td>七月</td>\n",
       "      <td>NaN</td>\n",
       "    </tr>\n",
       "    <tr>\n",
       "      <td>8</td>\n",
       "      <td>三季</td>\n",
       "      <td>NaN</td>\n",
       "    </tr>\n",
       "    <tr>\n",
       "      <td>9</td>\n",
       "      <td>三月</td>\n",
       "      <td>NaN</td>\n",
       "    </tr>\n",
       "    <tr>\n",
       "      <td>10</td>\n",
       "      <td>上午11點20分</td>\n",
       "      <td>NaN</td>\n",
       "    </tr>\n",
       "    <tr>\n",
       "      <td>11</td>\n",
       "      <td>上周</td>\n",
       "      <td>2019-11-19 16:22:09.180406</td>\n",
       "    </tr>\n",
       "    <tr>\n",
       "      <td>12</td>\n",
       "      <td>二季</td>\n",
       "      <td>NaN</td>\n",
       "    </tr>\n",
       "    <tr>\n",
       "      <td>13</td>\n",
       "      <td>今天</td>\n",
       "      <td>NaN</td>\n",
       "    </tr>\n",
       "    <tr>\n",
       "      <td>14</td>\n",
       "      <td>今天上午</td>\n",
       "      <td>NaN</td>\n",
       "    </tr>\n",
       "    <tr>\n",
       "      <td>15</td>\n",
       "      <td>今年</td>\n",
       "      <td>NaN</td>\n",
       "    </tr>\n",
       "    <tr>\n",
       "      <td>16</td>\n",
       "      <td>今年三月</td>\n",
       "      <td>NaN</td>\n",
       "    </tr>\n",
       "    <tr>\n",
       "      <td>17</td>\n",
       "      <td>八個月</td>\n",
       "      <td>NaN</td>\n",
       "    </tr>\n",
       "    <tr>\n",
       "      <td>18</td>\n",
       "      <td>去年</td>\n",
       "      <td>NaN</td>\n",
       "    </tr>\n",
       "    <tr>\n",
       "      <td>19</td>\n",
       "      <td>去年七月</td>\n",
       "      <td>NaN</td>\n",
       "    </tr>\n",
       "    <tr>\n",
       "      <td>20</td>\n",
       "      <td>去年同期</td>\n",
       "      <td>NaN</td>\n",
       "    </tr>\n",
       "    <tr>\n",
       "      <td>21</td>\n",
       "      <td>如今</td>\n",
       "      <td>NaN</td>\n",
       "    </tr>\n",
       "    <tr>\n",
       "      <td>22</td>\n",
       "      <td>新一季</td>\n",
       "      <td>NaN</td>\n",
       "    </tr>\n",
       "    <tr>\n",
       "      <td>23</td>\n",
       "      <td>明年</td>\n",
       "      <td>NaN</td>\n",
       "    </tr>\n",
       "    <tr>\n",
       "      <td>24</td>\n",
       "      <td>明年1月</td>\n",
       "      <td>NaN</td>\n",
       "    </tr>\n",
       "    <tr>\n",
       "      <td>25</td>\n",
       "      <td>現</td>\n",
       "      <td>NaN</td>\n",
       "    </tr>\n",
       "    <tr>\n",
       "      <td>26</td>\n",
       "      <td>現在</td>\n",
       "      <td>NaN</td>\n",
       "    </tr>\n",
       "    <tr>\n",
       "      <td>27</td>\n",
       "      <td>第2季</td>\n",
       "      <td>NaN</td>\n",
       "    </tr>\n",
       "    <tr>\n",
       "      <td>28</td>\n",
       "      <td>第三季</td>\n",
       "      <td>NaN</td>\n",
       "    </tr>\n",
       "    <tr>\n",
       "      <td>29</td>\n",
       "      <td>第二季</td>\n",
       "      <td>NaN</td>\n",
       "    </tr>\n",
       "    <tr>\n",
       "      <td>30</td>\n",
       "      <td>第八個月</td>\n",
       "      <td>NaN</td>\n",
       "    </tr>\n",
       "    <tr>\n",
       "      <td>31</td>\n",
       "      <td>過去</td>\n",
       "      <td>NaN</td>\n",
       "    </tr>\n",
       "  </tbody>\n",
       "</table>\n",
       "</div>"
      ],
      "text/plain": [
       "      source                      target\n",
       "1         1月                         NaN\n",
       "2      2020年                         NaN\n",
       "3    2020年2月         2020-02-26 00:00:00\n",
       "4      2021年                         NaN\n",
       "5         2月                         NaN\n",
       "6         一季                         NaN\n",
       "7         七月                         NaN\n",
       "8         三季                         NaN\n",
       "9         三月                         NaN\n",
       "10  上午11點20分                         NaN\n",
       "11        上周  2019-11-19 16:22:09.180406\n",
       "12        二季                         NaN\n",
       "13        今天                         NaN\n",
       "14      今天上午                         NaN\n",
       "15        今年                         NaN\n",
       "16      今年三月                         NaN\n",
       "17       八個月                         NaN\n",
       "18        去年                         NaN\n",
       "19      去年七月                         NaN\n",
       "20      去年同期                         NaN\n",
       "21        如今                         NaN\n",
       "22       新一季                         NaN\n",
       "23        明年                         NaN\n",
       "24      明年1月                         NaN\n",
       "25         現                         NaN\n",
       "26        現在                         NaN\n",
       "27       第2季                         NaN\n",
       "28       第三季                         NaN\n",
       "29       第二季                         NaN\n",
       "30      第八個月                         NaN\n",
       "31        過去                         NaN"
      ]
     },
     "execution_count": 14,
     "metadata": {},
     "output_type": "execute_result"
    }
   ],
   "source": [
    "df = pd.DataFrame(results)\n",
    "df = df.replace(\"\", np.nan, regex=True)\n",
    "df = df.groupby(\"source\").first()\n",
    "df = df.sort_values(\"source\").reset_index()\n",
    "df.index = df.index + 1\n",
    "df"
   ]
  },
  {
   "cell_type": "markdown",
   "metadata": {},
   "source": [
    "---"
   ]
  },
  {
   "cell_type": "markdown",
   "metadata": {},
   "source": [
    "## find holidays using the workalendar package and holiday_2020 csv file"
   ]
  },
  {
   "cell_type": "markdown",
   "metadata": {},
   "source": [
    "with open(\"holidays_2020.csv\", \"r\", encoding=\"utf-8\") as f:\n",
    "    rows = csv.reader(f)\n",
    "    \n",
    "    holidays_2020 = []\n",
    "    for row in rows:\n",
    "        if row[3] != \"\": # no holidays in the csv file\n",
    "            d = re.match(\"(\\d+)年(\\d+)月(\\d+)日\", row[0])\n",
    "            padded_date = \"{}年{}月{}日\".format(d.group(1), d.group(2).zfill(2), d.group(3).zfill(2))\n",
    "            holidays_2020.append((datetime.strptime(padded_date, \"%Y年%m月%d日\").date(), row[3]))"
   ]
  },
  {
   "cell_type": "markdown",
   "metadata": {},
   "source": [
    "def working_day(d):\n",
    "    cal = Taiwan()\n",
    "    return cal.is_working_day(d)\n",
    "\n",
    "def holiday(d):\n",
    "    holiday = False\n",
    "    for k, v in holidays_2020:\n",
    "        if d == k:\n",
    "            holiday = True\n",
    "    return holiday"
   ]
  }
 ],
 "metadata": {
  "kernelspec": {
   "display_name": "Python 3",
   "language": "python",
   "name": "python3"
  },
  "language_info": {
   "codemirror_mode": {
    "name": "ipython",
    "version": 3
   },
   "file_extension": ".py",
   "mimetype": "text/x-python",
   "name": "python",
   "nbconvert_exporter": "python",
   "pygments_lexer": "ipython3",
   "version": "3.7.4"
  }
 },
 "nbformat": 4,
 "nbformat_minor": 2
}
